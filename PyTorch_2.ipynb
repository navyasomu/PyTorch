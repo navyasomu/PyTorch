{
 "cells": [
  {
   "cell_type": "markdown",
   "id": "19296190",
   "metadata": {},
   "source": [
    "# Back Propogation"
   ]
  },
  {
   "cell_type": "markdown",
   "id": "d5cf87c8",
   "metadata": {},
   "source": [
    "Example 1"
   ]
  },
  {
   "cell_type": "code",
   "execution_count": 1,
   "id": "aece3154",
   "metadata": {},
   "outputs": [],
   "source": [
    "import torch"
   ]
  },
  {
   "cell_type": "code",
   "execution_count": 2,
   "id": "4c52e6c9",
   "metadata": {},
   "outputs": [
    {
     "data": {
      "text/plain": [
       "tensor([[2., 4., 6.],\n",
       "        [5., 7., 9.],\n",
       "        [1., 6., 2.]], requires_grad=True)"
      ]
     },
     "execution_count": 2,
     "metadata": {},
     "output_type": "execute_result"
    }
   ],
   "source": [
    "in_put = [[2.,4.,6.],[5.,7.,9.],[1.,6.,2.]]          #input matrix      \n",
    "x = torch.tensor(in_put,requires_grad=True)          #requires_grad=True --enables gradient computation for the tensor \n",
    "x"
   ]
  },
  {
   "cell_type": "code",
   "execution_count": 3,
   "id": "c7acb83f",
   "metadata": {},
   "outputs": [],
   "source": [
    "# Condition\n",
    "y = x**3+x**2"
   ]
  },
  {
   "cell_type": "code",
   "execution_count": 4,
   "id": "c13452c9",
   "metadata": {},
   "outputs": [],
   "source": [
    "z = y.sum()               "
   ]
  },
  {
   "cell_type": "code",
   "execution_count": 5,
   "id": "6157435d",
   "metadata": {},
   "outputs": [],
   "source": [
    "z.backward()      # 3*x**2 + 2*x ---> derivative of y "
   ]
  },
  {
   "cell_type": "code",
   "execution_count": 6,
   "id": "ca05ef8b",
   "metadata": {},
   "outputs": [
    {
     "name": "stdout",
     "output_type": "stream",
     "text": [
      "tensor([[ 16.,  56., 120.],\n",
      "        [ 85., 161., 261.],\n",
      "        [  5., 120.,  16.]])\n"
     ]
    }
   ],
   "source": [
    "print(x.grad) "
   ]
  },
  {
   "cell_type": "code",
   "execution_count": 7,
   "id": "79f11792",
   "metadata": {},
   "outputs": [
    {
     "data": {
      "text/plain": [
       "16"
      ]
     },
     "execution_count": 7,
     "metadata": {},
     "output_type": "execute_result"
    }
   ],
   "source": [
    "3*2**2 + 2*2"
   ]
  },
  {
   "cell_type": "markdown",
   "id": "8dcca5c1",
   "metadata": {},
   "source": [
    "Example 2"
   ]
  },
  {
   "cell_type": "code",
   "execution_count": 8,
   "id": "b3f9d712",
   "metadata": {},
   "outputs": [],
   "source": [
    "take = torch.tensor(4.0,requires_grad=True)"
   ]
  },
  {
   "cell_type": "code",
   "execution_count": 9,
   "id": "8d2df44c",
   "metadata": {},
   "outputs": [],
   "source": [
    "# Condition \n",
    "con = take**2"
   ]
  },
  {
   "cell_type": "code",
   "execution_count": 10,
   "id": "03db1b5e",
   "metadata": {},
   "outputs": [],
   "source": [
    "con.backward()      #2*take --> derivative of 'con'"
   ]
  },
  {
   "cell_type": "code",
   "execution_count": 11,
   "id": "12ae88c1",
   "metadata": {},
   "outputs": [
    {
     "name": "stdout",
     "output_type": "stream",
     "text": [
      "tensor(8.)\n"
     ]
    }
   ],
   "source": [
    "print(take.grad)"
   ]
  }
 ],
 "metadata": {
  "kernelspec": {
   "display_name": "Python 3 (ipykernel)",
   "language": "python",
   "name": "python3"
  },
  "language_info": {
   "codemirror_mode": {
    "name": "ipython",
    "version": 3
   },
   "file_extension": ".py",
   "mimetype": "text/x-python",
   "name": "python",
   "nbconvert_exporter": "python",
   "pygments_lexer": "ipython3",
   "version": "3.10.9"
  }
 },
 "nbformat": 4,
 "nbformat_minor": 5
}
