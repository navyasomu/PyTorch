{
 "cells": [
  {
   "cell_type": "markdown",
   "id": "afcd6721",
   "metadata": {},
   "source": [
    "## Pytorch Tutorial\n",
    "# Tensors Basics\n",
    "A tensor is a generalization of vectors and matrices and is easily understood as a multidimensional array.It is a term and set of techniques known in machine learning in the training and operation of deep learning models can be described in terms of tensors. In many cases tensors are used as a replacement for NumPy to use the power of GPUs.\n",
    "\n",
    "Tensors are a type of data structure used in linear algebra, and like vectors and matrices, you can calculate arithmetic operations with tensors."
   ]
  },
  {
   "cell_type": "code",
   "execution_count": 1,
   "id": "eb1ef0dc",
   "metadata": {},
   "outputs": [],
   "source": [
    "import torch              # matrix multiplication can be performed easily with torch"
   ]
  },
  {
   "cell_type": "code",
   "execution_count": 2,
   "id": "4be72ccb",
   "metadata": {},
   "outputs": [
    {
     "data": {
      "text/plain": [
       "'2.0.1+cpu'"
      ]
     },
     "execution_count": 2,
     "metadata": {},
     "output_type": "execute_result"
    }
   ],
   "source": [
    "torch.__version__        #  Here in oup_put '+cpu'-iam unsing pytorch on cpu \n",
    "                         # iam not having Nvidia GPU so i cant utilize the computational power of GPU"
   ]
  },
  {
   "cell_type": "code",
   "execution_count": 3,
   "id": "9cd8b8df",
   "metadata": {},
   "outputs": [
    {
     "data": {
      "text/plain": [
       "array([3, 4, 5, 6])"
      ]
     },
     "execution_count": 3,
     "metadata": {},
     "output_type": "execute_result"
    }
   ],
   "source": [
    "import numpy as np\n",
    "lst = [3,4,5,6]\n",
    "arr = np.array(lst)            # np.array which will store the original data \n",
    "arr"
   ]
  },
  {
   "cell_type": "code",
   "execution_count": 4,
   "id": "95670a0d",
   "metadata": {},
   "outputs": [
    {
     "data": {
      "text/plain": [
       "dtype('int32')"
      ]
     },
     "execution_count": 4,
     "metadata": {},
     "output_type": "execute_result"
    }
   ],
   "source": [
    "arr.dtype"
   ]
  },
  {
   "cell_type": "code",
   "execution_count": 5,
   "id": "8e260f67",
   "metadata": {},
   "outputs": [],
   "source": [
    "lst[2] = 10"
   ]
  },
  {
   "cell_type": "code",
   "execution_count": 6,
   "id": "4aee9db5",
   "metadata": {},
   "outputs": [
    {
     "name": "stdout",
     "output_type": "stream",
     "text": [
      "[3, 4, 10, 6]\n",
      "[3 4 5 6]\n"
     ]
    }
   ],
   "source": [
    "print(lst)                        # lst is updated [3,4,5,6] --> [3, 4, 10, 6]\n",
    "print(arr)                        # arr is not updated - np.array() function stores original data"
   ]
  },
  {
   "cell_type": "markdown",
   "id": "8d32b38b",
   "metadata": {},
   "source": [
    "# convert Numpy to Pytorch Tensors"
   ]
  },
  {
   "cell_type": "markdown",
   "id": "8705c20f",
   "metadata": {},
   "source": [
    "Tensors are similar to NumPy arrays, but they come with additional capabilities, such as automatic differentiation for gradient computations and seamless integration with GPUs for accelerated computations."
   ]
  },
  {
   "cell_type": "code",
   "execution_count": 7,
   "id": "d94f623d",
   "metadata": {},
   "outputs": [
    {
     "data": {
      "text/plain": [
       "tensor([3, 4, 5, 6], dtype=torch.int32)"
      ]
     },
     "execution_count": 7,
     "metadata": {},
     "output_type": "execute_result"
    }
   ],
   "source": [
    "tensor = torch.from_numpy(arr)          # 'torch.from_numpy()' to create a PyTorch tensor from a NumPy array\n",
    "tensor"
   ]
  },
  {
   "cell_type": "code",
   "execution_count": 8,
   "id": "a62c42c5",
   "metadata": {
    "scrolled": true
   },
   "outputs": [
    {
     "name": "stdout",
     "output_type": "stream",
     "text": [
      "tensor([3, 4], dtype=torch.int32)\n",
      "tensor([3, 5], dtype=torch.int32)\n"
     ]
    }
   ],
   "source": [
    "# Indexing similar to numpy\n",
    "print(tensor[:2])\n",
    "print(tensor[: : 2])"
   ]
  },
  {
   "cell_type": "code",
   "execution_count": 9,
   "id": "e1829385",
   "metadata": {},
   "outputs": [
    {
     "name": "stdout",
     "output_type": "stream",
     "text": [
      "tensor([  3,   4,   5, 100], dtype=torch.int32)\n",
      "[  3   4   5 100]\n"
     ]
    }
   ],
   "source": [
    "# Disadvantage of from_numpy. The array and tensor uses the same memory location\n",
    "\n",
    "tensor[3] = 100\n",
    "print(tensor)                                       \n",
    "print(arr)                                  # original data is updated because of same memory location"
   ]
  },
  {
   "cell_type": "code",
   "execution_count": 10,
   "id": "e046d631",
   "metadata": {},
   "outputs": [
    {
     "data": {
      "text/plain": [
       "tensor([  3,   4,   5, 100], dtype=torch.int32)"
      ]
     },
     "execution_count": 10,
     "metadata": {},
     "output_type": "execute_result"
    }
   ],
   "source": [
    "# prevent this by using torch.tensor\n",
    "\n",
    "tensor_arr = torch.tensor(arr)             # torch.tensor() always copies data\n",
    "tensor_arr"
   ]
  },
  {
   "cell_type": "code",
   "execution_count": 11,
   "id": "9c786f17",
   "metadata": {},
   "outputs": [
    {
     "name": "stdout",
     "output_type": "stream",
     "text": [
      "tensor([  3,   4, 200, 100], dtype=torch.int32)\n",
      "[  3   4   5 100]\n"
     ]
    }
   ],
   "source": [
    "tensor_arr[2] = 200\n",
    "print(tensor_arr)\n",
    "print(arr)                                       "
   ]
  },
  {
   "cell_type": "markdown",
   "id": "37b19317",
   "metadata": {},
   "source": [
    "we can create tensors by using in-built function that are present inside torch\n"
   ]
  },
  {
   "cell_type": "code",
   "execution_count": 12,
   "id": "267708ee",
   "metadata": {},
   "outputs": [
    {
     "data": {
      "text/plain": [
       "tensor([[0, 0, 0],\n",
       "        [0, 0, 0]], dtype=torch.int32)"
      ]
     },
     "execution_count": 12,
     "metadata": {},
     "output_type": "execute_result"
    }
   ],
   "source": [
    "torch.zeros(2,3, dtype = torch.int32)           #zero  - built in function in torch\n",
    "                                                #(2,3) - shape of the matrix \n",
    "                                                #dtype = torch.int32 - Data type"
   ]
  },
  {
   "cell_type": "code",
   "execution_count": 13,
   "id": "b5e29035",
   "metadata": {},
   "outputs": [
    {
     "data": {
      "text/plain": [
       "tensor([[1., 1., 1.],\n",
       "        [1., 1., 1.],\n",
       "        [1., 1., 1.]], dtype=torch.float64)"
      ]
     },
     "execution_count": 13,
     "metadata": {},
     "output_type": "execute_result"
    }
   ],
   "source": [
    "torch.ones(3,3, dtype = torch.float64)"
   ]
  },
  {
   "cell_type": "code",
   "execution_count": 14,
   "id": "bbc0049f",
   "metadata": {},
   "outputs": [
    {
     "data": {
      "text/plain": [
       "tensor([[0.1967, 0.0849],\n",
       "        [0.8353, 0.0059],\n",
       "        [0.2001, 0.7212]])"
      ]
     },
     "execution_count": 14,
     "metadata": {},
     "output_type": "execute_result"
    }
   ],
   "source": [
    "torch.rand(3,2)"
   ]
  },
  {
   "cell_type": "markdown",
   "id": "12875c54",
   "metadata": {},
   "source": [
    "## Arithmetic Operation"
   ]
  },
  {
   "cell_type": "code",
   "execution_count": 15,
   "id": "87334f54",
   "metadata": {},
   "outputs": [],
   "source": [
    "m1 = torch.tensor([1,2,3],dtype = torch.float)\n",
    "m2 = torch.tensor([5,6,7], dtype = torch.float)"
   ]
  },
  {
   "cell_type": "code",
   "execution_count": 16,
   "id": "81ddbf86",
   "metadata": {},
   "outputs": [
    {
     "name": "stdout",
     "output_type": "stream",
     "text": [
      "tensor([ 6.,  8., 10.])\n",
      "tensor([ 6.,  8., 10.])\n"
     ]
    }
   ],
   "source": [
    "print(m1+m2)\n",
    "print(torch.add(m1,m2))        # torch.add - inbuilt function "
   ]
  },
  {
   "cell_type": "code",
   "execution_count": 18,
   "id": "29c250dc",
   "metadata": {},
   "outputs": [
    {
     "data": {
      "text/plain": [
       "tensor([ 6.,  8., 10.])"
      ]
     },
     "execution_count": 18,
     "metadata": {},
     "output_type": "execute_result"
    }
   ],
   "source": [
    "torch.add(m1, m2, out=m)        # 'out = None' what ever operation is done that will store in 'm' variable"
   ]
  },
  {
   "cell_type": "code",
   "execution_count": 19,
   "id": "a0a9f400",
   "metadata": {},
   "outputs": [
    {
     "data": {
      "text/plain": [
       "tensor([ 6.,  8., 10.])"
      ]
     },
     "execution_count": 19,
     "metadata": {},
     "output_type": "execute_result"
    }
   ],
   "source": [
    "m"
   ]
  },
  {
   "cell_type": "code",
   "execution_count": 20,
   "id": "3c2ee328",
   "metadata": {},
   "outputs": [
    {
     "data": {
      "text/plain": [
       "tensor(24.)"
      ]
     },
     "execution_count": 20,
     "metadata": {},
     "output_type": "execute_result"
    }
   ],
   "source": [
    "## some more operations\n",
    "## tensor[6.,  8., 10.]\n",
    "torch.add(m1,m2).sum()"
   ]
  },
  {
   "cell_type": "code",
   "execution_count": 21,
   "id": "0d5f0c82",
   "metadata": {},
   "outputs": [
    {
     "data": {
      "text/plain": [
       "tensor([ 5., 12., 21.])"
      ]
     },
     "execution_count": 21,
     "metadata": {},
     "output_type": "execute_result"
    }
   ],
   "source": [
    "# Multiplication operation\n",
    "m1.mul(m2)                        # 1*5 , 2*6 , 3*7"
   ]
  },
  {
   "cell_type": "code",
   "execution_count": 22,
   "id": "5ec52028",
   "metadata": {},
   "outputs": [
    {
     "data": {
      "text/plain": [
       "tensor(38.)"
      ]
     },
     "execution_count": 22,
     "metadata": {},
     "output_type": "execute_result"
    }
   ],
   "source": [
    "# Dot Product\n",
    "m1.dot(m2)                      # 1*5 + 2*6 + 3*7"
   ]
  },
  {
   "cell_type": "markdown",
   "id": "b5f97831",
   "metadata": {},
   "source": [
    "## Matrix Multiplication"
   ]
  },
  {
   "cell_type": "code",
   "execution_count": 23,
   "id": "3f8cf5ed",
   "metadata": {},
   "outputs": [],
   "source": [
    "x = torch.tensor([[2,5,6],[4,6,7]],dtype = torch.int)\n",
    "y = torch.tensor([[3,4],[5,6],[7,5]],dtype = torch.int)"
   ]
  },
  {
   "cell_type": "code",
   "execution_count": 24,
   "id": "9d950831",
   "metadata": {},
   "outputs": [
    {
     "name": "stdout",
     "output_type": "stream",
     "text": [
      "tensor([[73, 68],\n",
      "        [91, 87]], dtype=torch.int32)\n",
      "tensor([[73, 68],\n",
      "        [91, 87]], dtype=torch.int32)\n",
      "tensor([[73, 68],\n",
      "        [91, 87]], dtype=torch.int32)\n"
     ]
    }
   ],
   "source": [
    "print(torch.matmul(x,y))\n",
    "print(torch.mm(x,y))\n",
    "print(x@y)"
   ]
  }
 ],
 "metadata": {
  "kernelspec": {
   "display_name": "Python 3 (ipykernel)",
   "language": "python",
   "name": "python3"
  },
  "language_info": {
   "codemirror_mode": {
    "name": "ipython",
    "version": 3
   },
   "file_extension": ".py",
   "mimetype": "text/x-python",
   "name": "python",
   "nbconvert_exporter": "python",
   "pygments_lexer": "ipython3",
   "version": "3.10.9"
  }
 },
 "nbformat": 4,
 "nbformat_minor": 5
}
