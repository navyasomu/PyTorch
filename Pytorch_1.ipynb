{
 "cells": [
  {
   "cell_type": "markdown",
   "id": "625f9570",
   "metadata": {},
   "source": [
    "## Pytorch Tutorial\n",
    "# Tensors Basics\n",
    "A tensor is a generalization of vectors and matrices and is easily understood as a multidimensional array.It is a term and set of techniques known in machine learning in the training and operation of deep learning models can be described in terms of tensors. In many cases tensors are used as a replacement for NumPy to use the power of GPUs.\n",
    "\n",
    "Tensors are a type of data structure used in linear algebra, and like vectors and matrices, you can calculate arithmetic operations with tensors."
   ]
  },
  {
   "cell_type": "code",
   "execution_count": 1,
   "id": "4b29da75",
   "metadata": {},
   "outputs": [],
   "source": [
    "import torch              # matrix multiplication can be performed easily with torch"
   ]
  },
  {
   "cell_type": "code",
   "execution_count": 2,
   "id": "72dd9cae",
   "metadata": {},
   "outputs": [
    {
     "data": {
      "text/plain": [
       "'2.0.1+cpu'"
      ]
     },
     "execution_count": 2,
     "metadata": {},
     "output_type": "execute_result"
    }
   ],
   "source": [
    "torch.__version__        #  Here in oup_put '+cpu'-iam unsing pytorch on cpu \n",
    "                         # iam not having Nvidia GPU so i cant utilize the computational power of GPU"
   ]
  },
  {
   "cell_type": "code",
   "execution_count": 3,
   "id": "fbbe32b6",
   "metadata": {},
   "outputs": [
    {
     "data": {
      "text/plain": [
       "array([3, 4, 5, 6])"
      ]
     },
     "execution_count": 3,
     "metadata": {},
     "output_type": "execute_result"
    }
   ],
   "source": [
    "import numpy as np\n",
    "lst = [3,4,5,6]\n",
    "arr = np.array(lst)            # np.array which will store the original data \n",
    "arr"
   ]
  },
  {
   "cell_type": "code",
   "execution_count": 4,
   "id": "55118674",
   "metadata": {},
   "outputs": [
    {
     "data": {
      "text/plain": [
       "dtype('int32')"
      ]
     },
     "execution_count": 4,
     "metadata": {},
     "output_type": "execute_result"
    }
   ],
   "source": [
    "arr.dtype"
   ]
  },
  {
   "cell_type": "code",
   "execution_count": 5,
   "id": "dc14dddb",
   "metadata": {},
   "outputs": [],
   "source": [
    "lst[2] = 10"
   ]
  },
  {
   "cell_type": "code",
   "execution_count": 6,
   "id": "808373e9",
   "metadata": {},
   "outputs": [
    {
     "name": "stdout",
     "output_type": "stream",
     "text": [
      "[3, 4, 10, 6]\n",
      "[3 4 5 6]\n"
     ]
    }
   ],
   "source": [
    "print(lst)                        # lst is updated [3,4,5,6] --> [3, 4, 10, 6]\n",
    "print(arr)                        # arr is not updated - np.array() function stores original data"
   ]
  },
  {
   "cell_type": "markdown",
   "id": "213a0968",
   "metadata": {},
   "source": [
    "# convert Numpy to Pytorch Tensors"
   ]
  },
  {
   "cell_type": "markdown",
   "id": "4dca586e",
   "metadata": {},
   "source": [
    "Tensors are similar to NumPy arrays, but they come with additional capabilities, such as automatic differentiation for gradient computations and seamless integration with GPUs for accelerated computations."
   ]
  },
  {
   "cell_type": "code",
   "execution_count": 7,
   "id": "398ed2b8",
   "metadata": {},
   "outputs": [
    {
     "data": {
      "text/plain": [
       "tensor([3, 4, 5, 6], dtype=torch.int32)"
      ]
     },
     "execution_count": 7,
     "metadata": {},
     "output_type": "execute_result"
    }
   ],
   "source": [
    "tensor = torch.from_numpy(arr)          # 'torch.from_numpy()' to create a PyTorch tensor from a NumPy array\n",
    "tensor"
   ]
  },
  {
   "cell_type": "code",
   "execution_count": 8,
   "id": "4e0bbfef",
   "metadata": {
    "scrolled": true
   },
   "outputs": [
    {
     "name": "stdout",
     "output_type": "stream",
     "text": [
      "tensor([3, 4], dtype=torch.int32)\n",
      "tensor([3, 5], dtype=torch.int32)\n"
     ]
    }
   ],
   "source": [
    "# Indexing similar to numpy\n",
    "print(tensor[:2])\n",
    "print(tensor[: : 2])"
   ]
  },
  {
   "cell_type": "code",
   "execution_count": 9,
   "id": "99b01f29",
   "metadata": {},
   "outputs": [
    {
     "name": "stdout",
     "output_type": "stream",
     "text": [
      "tensor([  3,   4,   5, 100], dtype=torch.int32)\n",
      "[  3   4   5 100]\n"
     ]
    }
   ],
   "source": [
    "# Disadvantage of from_numpy. The array and tensor uses the same memory location\n",
    "\n",
    "tensor[3] = 100\n",
    "print(tensor)                                       \n",
    "print(arr)                                  # original data is updated because of same memory location"
   ]
  },
  {
   "cell_type": "code",
   "execution_count": 10,
   "id": "6b690c9c",
   "metadata": {},
   "outputs": [
    {
     "data": {
      "text/plain": [
       "tensor([  3,   4,   5, 100], dtype=torch.int32)"
      ]
     },
     "execution_count": 10,
     "metadata": {},
     "output_type": "execute_result"
    }
   ],
   "source": [
    "# prevent this by using torch.tensor\n",
    "\n",
    "tensor_arr = torch.tensor(arr)             # torch.tensor() always copies data\n",
    "tensor_arr"
   ]
  },
  {
   "cell_type": "code",
   "execution_count": 11,
   "id": "43cc5316",
   "metadata": {},
   "outputs": [
    {
     "name": "stdout",
     "output_type": "stream",
     "text": [
      "tensor([  3,   4, 200, 100], dtype=torch.int32)\n",
      "[  3   4   5 100]\n"
     ]
    }
   ],
   "source": [
    "tensor_arr[2] = 200\n",
    "print(tensor_arr)\n",
    "print(arr)                                       "
   ]
  },
  {
   "cell_type": "markdown",
   "id": "4c3e506b",
   "metadata": {},
   "source": [
    "we can create tensors by using in-built function that are present inside torch\n"
   ]
  },
  {
   "cell_type": "code",
   "execution_count": 12,
   "id": "16774078",
   "metadata": {},
   "outputs": [
    {
     "data": {
      "text/plain": [
       "tensor([[0, 0, 0],\n",
       "        [0, 0, 0]], dtype=torch.int32)"
      ]
     },
     "execution_count": 12,
     "metadata": {},
     "output_type": "execute_result"
    }
   ],
   "source": [
    "torch.zeros(2,3, dtype = torch.int32)           #zero  - built in function in torch\n",
    "                                                #(2,3) - shape of the matrix \n",
    "                                                #dtype = torch.int32 - Data type"
   ]
  },
  {
   "cell_type": "code",
   "execution_count": 13,
   "id": "77ac7d1d",
   "metadata": {},
   "outputs": [
    {
     "data": {
      "text/plain": [
       "tensor([[1., 1., 1.],\n",
       "        [1., 1., 1.],\n",
       "        [1., 1., 1.]], dtype=torch.float64)"
      ]
     },
     "execution_count": 13,
     "metadata": {},
     "output_type": "execute_result"
    }
   ],
   "source": [
    "torch.ones(3,3, dtype = torch.float64)"
   ]
  },
  {
   "cell_type": "code",
   "execution_count": 14,
   "id": "de7f64c1",
   "metadata": {},
   "outputs": [
    {
     "data": {
      "text/plain": [
       "tensor([[0.4566, 0.2622],\n",
       "        [0.8723, 0.5313],\n",
       "        [0.3972, 0.1152]])"
      ]
     },
     "execution_count": 14,
     "metadata": {},
     "output_type": "execute_result"
    }
   ],
   "source": [
    "torch.rand(3,2)"
   ]
  },
  {
   "cell_type": "markdown",
   "id": "b240f0c0",
   "metadata": {},
   "source": [
    "## Arithmetic Operation"
   ]
  },
  {
   "cell_type": "code",
   "execution_count": 15,
   "id": "0df61901",
   "metadata": {},
   "outputs": [],
   "source": [
    "m1 = torch.tensor([1,2,3],dtype = torch.float)\n",
    "m2 = torch.tensor([5,6,7], dtype = torch.float)"
   ]
  },
  {
   "cell_type": "code",
   "execution_count": 16,
   "id": "39804e9f",
   "metadata": {},
   "outputs": [
    {
     "name": "stdout",
     "output_type": "stream",
     "text": [
      "tensor([ 6.,  8., 10.])\n",
      "tensor([ 6.,  8., 10.])\n"
     ]
    }
   ],
   "source": [
    "print(m1+m2)\n",
    "print(torch.add(m1,m2))        # torch.add - inbuilt function "
   ]
  },
  {
   "cell_type": "code",
   "execution_count": 17,
   "id": "3ec7ec49",
   "metadata": {},
   "outputs": [
    {
     "ename": "NameError",
     "evalue": "name 'm' is not defined",
     "output_type": "error",
     "traceback": [
      "\u001b[1;31m----------------------------------------------------------------\u001b[0m",
      "\u001b[1;31mNameError\u001b[0m                      Traceback (most recent call last)",
      "Cell \u001b[1;32mIn[17], line 1\u001b[0m\n\u001b[1;32m----> 1\u001b[0m torch\u001b[38;5;241m.\u001b[39madd(m1,m2,out \u001b[38;5;241m=\u001b[39m\u001b[43mm\u001b[49m)\n",
      "\u001b[1;31mNameError\u001b[0m: name 'm' is not defined"
     ]
    }
   ],
   "source": [
    "torch.add(m1,m2,out =m)         # 'out = None' what ever operation is done that will store in 'm' variable"
   ]
  },
  {
   "cell_type": "code",
   "execution_count": null,
   "id": "92f5d03f",
   "metadata": {},
   "outputs": [],
   "source": [
    "m"
   ]
  },
  {
   "cell_type": "code",
   "execution_count": null,
   "id": "2044aef4",
   "metadata": {},
   "outputs": [],
   "source": [
    "## some more operations\n",
    "## tensor[6.,  8., 10.]\n",
    "torch.add(m1,m2).sum()"
   ]
  },
  {
   "cell_type": "code",
   "execution_count": null,
   "id": "3bbd61dd",
   "metadata": {},
   "outputs": [],
   "source": [
    "# Multiplication operation\n",
    "m1.mul(m2)                        # 1*5 , 2*6 , 3*7"
   ]
  },
  {
   "cell_type": "code",
   "execution_count": null,
   "id": "a5306d59",
   "metadata": {},
   "outputs": [],
   "source": [
    "# Dot Product\n",
    "m1.dot(m2)                      # 1*5 + 2*6 + 3*7"
   ]
  },
  {
   "cell_type": "markdown",
   "id": "8521e46e",
   "metadata": {},
   "source": [
    "## Matrix Multiplication"
   ]
  },
  {
   "cell_type": "code",
   "execution_count": null,
   "id": "9ef5658a",
   "metadata": {},
   "outputs": [],
   "source": [
    "x = torch.tensor([[2,5,6],[4,6,7]],dtype = torch.int)\n",
    "y = torch.tensor([[3,4],[5,6],[7,5]],dtype = torch.int)"
   ]
  },
  {
   "cell_type": "code",
   "execution_count": null,
   "id": "22f50f5c",
   "metadata": {},
   "outputs": [],
   "source": [
    "print(torch.matmul(x,y))\n",
    "print(torch.mm(x,y))\n",
    "print(x@y)"
   ]
  }
 ],
 "metadata": {
  "kernelspec": {
   "display_name": "Python 3 (ipykernel)",
   "language": "python",
   "name": "python3"
  },
  "language_info": {
   "codemirror_mode": {
    "name": "ipython",
    "version": 3
   },
   "file_extension": ".py",
   "mimetype": "text/x-python",
   "name": "python",
   "nbconvert_exporter": "python",
   "pygments_lexer": "ipython3",
   "version": "3.10.9"
  }
 },
 "nbformat": 4,
 "nbformat_minor": 5
}
